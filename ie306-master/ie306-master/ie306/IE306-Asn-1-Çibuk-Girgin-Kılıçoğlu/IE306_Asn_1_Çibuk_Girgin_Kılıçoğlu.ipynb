{
  "nbformat": 4,
  "nbformat_minor": 0,
  "metadata": {
    "colab": {
      "name": "IE306-Asn-1-Girgin-Çibuk-Kılıçoğlu.ipynb",
      "provenance": [],
      "collapsed_sections": []
    },
    "kernelspec": {
      "display_name": "Python 3",
      "language": "python",
      "name": "python3"
    },
    "language_info": {
      "codemirror_mode": {
        "name": "ipython",
        "version": 3
      },
      "file_extension": ".py",
      "mimetype": "text/x-python",
      "name": "python",
      "nbconvert_exporter": "python",
      "pygments_lexer": "ipython3",
      "version": "3.7.3"
    }
  },
  "cells": [
    {
      "cell_type": "code",
      "metadata": {
        "colab_type": "code",
        "id": "_Y4zNf-pBdJp",
        "outputId": "3ab7e652-f2dd-4d34-8e69-5ec850cbee08",
        "colab": {
          "base_uri": "https://localhost:8080/",
          "height": 85
        }
      },
      "source": [
        "! pip install simpy"
      ],
      "execution_count": 2,
      "outputs": [
        {
          "output_type": "stream",
          "text": [
            "Collecting simpy\n",
            "  Downloading https://files.pythonhosted.org/packages/20/f9/874b0bab83406827db93292a5bbe5acb5c18e3cea665b2f6e053292cb687/simpy-4.0.1-py2.py3-none-any.whl\n",
            "Installing collected packages: simpy\n",
            "Successfully installed simpy-4.0.1\n"
          ],
          "name": "stdout"
        }
      ]
    },
    {
      "cell_type": "code",
      "metadata": {
        "colab_type": "code",
        "id": "3XN2VKIeDv2h",
        "colab": {}
      },
      "source": [
        "import simpy\n",
        "import random\n",
        "import math\n",
        "import numpy as np"
      ],
      "execution_count": 0,
      "outputs": []
    },
    {
      "cell_type": "code",
      "metadata": {
        "colab_type": "code",
        "id": "5HVb-SKsDial",
        "colab": {}
      },
      "source": [
        "RANDOM_SEED = 42\n",
        "random_seeds = [9, 8, 7, 6, 5, 4, 3, 2, 1, 10]\n",
        "random.seed(RANDOM_SEED)\n",
        "np.random.seed(RANDOM_SEED)\n",
        "SERVICE_RANGE= [1,7]        # service time of op2 is uniformly distributed between 1 and 7\n",
        "INTERARRIVAL_RATE = 1/6     # given that 1/6 customer per minute\n",
        "NUM_MACHINES = 100          # Number of machines in the answering system\n",
        "RECOGNITION_RATE = 1/5      # given that 1/5 service per minute\n",
        "PATIENCE = 0                # patiance for firstcall\n",
        "PATIENCE2 = 10              # patiance for operator queues\n",
        "drop_customers = []         # their phones never opened...\n",
        "unsatisfied_customers_10 = []  # customers who waited 10 mins  \n",
        "unsatisfied_customers = []  # customers who  misdirected \n",
        "queue_w_times_op1 = []      # queue waiting times for operator1\n",
        "queue_w_times_op2 = []      # queue waiting times for operator2\n",
        "service_times_op1 = []      # (with operator 1)\n",
        "service_times_op2 = []      # (with operator 2)\n",
        "SIMULATION_TIME=0           # it the end of the simulation, it will be filled\n",
        "answering_machine_times = []   # duration of time spent during voice recognition\n",
        "system_time = []            # total number of minutes a served customer spent in the system\n",
        "twt_tst_ratio = []          # total waiting time to total system time ratio\n",
        "queue_length_time_op1 = [] # Queue length info for operator 1\n",
        "queue_length_time_op2 = [] # Queue length info for operator 1\n",
        "#to calculate lognormal distribution, we need mu and sigma. \n",
        "mean = 12\n",
        "std = 6\n",
        "\n",
        "MU = math.log(mean**2/math.sqrt(mean**2 + std**2))\n",
        "\n",
        "VARIANCE = math.log((mean**2 + std**2) / mean**2 )\n",
        "\n",
        "SIGMA = math.sqrt(VARIANCE)\n",
        "\n",
        "\n"
      ],
      "execution_count": 0,
      "outputs": []
    },
    {
      "cell_type": "code",
      "metadata": {
        "colab_type": "code",
        "id": "6fJkBZaRW9RI",
        "colab": {}
      },
      "source": [
        "# This function generates the breaks using poisson dist.\n",
        "# Generates breaks for every 8*60 mins.\n",
        "def generate_breaks(env):\n",
        "    current_shift = -1\n",
        "    while(1):\n",
        "        global simulation_finished\n",
        "        global op1_breaktime\n",
        "        global op2_breaktime\n",
        "        if(simulation_finished):\n",
        "            break\n",
        "        if(current_shift != env.now //(8*60)):\n",
        "            current_shift = env.now //(8*60)\n",
        "            op1_breaktime = sorted([(current_shift*8*60) + random.uniform(0,8*60) for i in range(np.random.poisson(8))])\n",
        "            op2_breaktime = sorted([(current_shift*8*60) + random.uniform(0,8*60) for i in range(np.random.poisson(8))])\n",
        "            yield env.timeout(8*60)"
      ],
      "execution_count": 0,
      "outputs": []
    },
    {
      "cell_type": "code",
      "metadata": {
        "colab_type": "code",
        "id": "iG_z0jtKW9RM",
        "colab": {}
      },
      "source": [
        "# While taking breaks operator himself sends a request to himself.\n",
        "# When he got the service right, checks if the queue is empty. If so, takes break, else makes another request. \n",
        "def take_break_1(env):\n",
        "    while(1):\n",
        "        global simulation_finished\n",
        "        global op1_breaktime\n",
        "        global op2_breaktime\n",
        "        if(simulation_finished):\n",
        "            break\n",
        "        if(len(op1_breaktime) ==0): # if all breaks are taken\n",
        "            yield env.timeout((env.now//(8*60) + 1)*(8*60) - env.now)\n",
        "            if(simulation_finished):\n",
        "                break\n",
        "        if(len(op1_breaktime) > 0 and env.now >= op1_breaktime[0]): \n",
        "            with operator1.request() as req: # make a request to himself\n",
        "                yield req\n",
        "                #print(\"Operator 1 tries to take a break at %s\" % str(env.now))\n",
        "                if(len(operator1.queue) == 0): # if queue is empty then take a break.\n",
        "                    del op1_breaktime[0]\n",
        "                    yield env.timeout(3)\n",
        "                    #print(\"Operator 1 comes again at %s\" % str(env.now))\n",
        "        else:\n",
        "            if(len(op1_breaktime) ==0): \n",
        "                yield env.timeout((env.now//(8*60) + 1)*(8*60) - env.now)\n",
        "                if(simulation_finished):\n",
        "                    break\n",
        "            else:\n",
        "                yield env.timeout(op1_breaktime[0] - env.now)\n",
        "\n",
        "# The same as above but for op2.\n",
        "def take_break_2(env):\n",
        "    while(1):\n",
        "        global simulation_finished\n",
        "        global op1_breaktime\n",
        "        global op2_breaktime\n",
        "        if(simulation_finished):\n",
        "            break\n",
        "        if(len(op2_breaktime) == 0):\n",
        "            yield env.timeout((env.now//(8*60) + 1)*(8*60) - env.now)\n",
        "            if(simulation_finished):\n",
        "                break\n",
        "        if(len(op2_breaktime)>0 and env.now >= op2_breaktime[0]):\n",
        "            with operator2.request() as req:\n",
        "                yield req\n",
        "                #print(\"Operator 2 tries to take a break at %s\" % str(env.now))\n",
        "                if(len(operator2.queue) == 0):\n",
        "                    del op2_breaktime[0]\n",
        "                    yield env.timeout(3)\n",
        "                    #print(\"Operator 2 comes again at %s\" % str(env.now))\n",
        "        else:\n",
        "            if(len(op2_breaktime) ==0):\n",
        "                yield env.timeout((env.now//(8*60) + 1)*(8*60) - env.now)\n",
        "                if(simulation_finished):\n",
        "                    break\n",
        "            else:\n",
        "                yield env.timeout(op2_breaktime[0] - env.now)"
      ],
      "execution_count": 0,
      "outputs": []
    },
    {
      "cell_type": "code",
      "metadata": {
        "id": "jY2ECGg0chOy",
        "colab_type": "code",
        "colab": {}
      },
      "source": [
        "def calculateAvgQueueLength(queue_info):\n",
        "    avg = 0\n",
        "    for i in range(len(queue_info)-1):\n",
        "        avg += (queue_info[i+1][0] - queue_info[i][0])* queue_info[i][1]\n",
        "    return avg/SIMULATION_TIME"
      ],
      "execution_count": 0,
      "outputs": []
    },
    {
      "cell_type": "code",
      "metadata": {
        "colab_type": "code",
        "id": "5qsDvAyYDsKN",
        "colab": {}
      },
      "source": [
        "class AnswerMachine(object):\n",
        "    \n",
        "    def __init__(self, env, num_machines, recognize_rate):\n",
        "        self.env = env\n",
        "        self.machine = simpy.Resource(env, num_machines) #voice recognition resources\n",
        "        self.recognize_rate =recognize_rate\n",
        "\n",
        "    # voice recognition\n",
        "    def recognize(self, customer):\n",
        "        duration = random.expovariate(self.recognize_rate) \n",
        "        yield self.env.timeout(duration)\n",
        "       \n",
        "\n",
        "class Customer(object):\n",
        "    def __init__(self, name, env,answeringMachine):\n",
        "        self.env = env\n",
        "        self.name = name\n",
        "        self.arrival_t = self.env.now\n",
        "        self.redirection_time = 0\n",
        "        self.leave_time = 0\n",
        "        self.action = env.process(self.firstCall(answeringMachine))\n",
        "        self.total_waiting_time=0\n",
        "        self.total_service_time=0\n",
        "\n",
        "\n",
        "    # Getting service from an operator.\n",
        "    def ask_question(self,operator_num):\n",
        "        if operator_num == 2:\n",
        "           duration = random.uniform(*SERVICE_RANGE)\n",
        "           yield self.env.timeout(duration)\n",
        "           service_times_op2.append(duration)\n",
        "           self.total_service_time+=duration\n",
        "           self.leave_time = self.env.now\n",
        "\n",
        "        else:\n",
        "           duration = random.lognormvariate(MU, SIGMA)\n",
        "           yield self.env.timeout(duration)\n",
        "           service_times_op1.append(duration)\n",
        "           self.total_service_time+=duration\n",
        "           self.leave_time = self.env.now\n",
        "\n",
        "    # routing from answering system to operators.\n",
        "    def redirect(self, operator, operator_num):\n",
        "        self.redirection_time =self.env.now\n",
        "        if(operator_num == 1):\n",
        "            queue_length_time_op1.append((self.redirection_time, len(operator1.queue)+1))\n",
        "        else:\n",
        "            queue_length_time_op2.append((self.redirection_time, len(operator2.queue)+1))\n",
        "        with operator.request() as req:\n",
        "            results = yield req | env.timeout(PATIENCE2)\n",
        "            wait_in_op_queue = self.env.now - self.redirection_time\n",
        "            self.total_waiting_time=wait_in_op_queue\n",
        "            if operator_num ==2:\n",
        "                queue_w_times_op2.append(wait_in_op_queue)\n",
        "            else:\n",
        "                queue_w_times_op1.append(wait_in_op_queue)\n",
        "            if req in results:\n",
        "              if(operator_num == 1):\n",
        "                  queue_length_time_op1.append((self.env.now, len(operator1.queue)))\n",
        "              else:\n",
        "                  queue_length_time_op2.append((self.env.now, len(operator2.queue)))\n",
        "              # We got to the counter\n",
        "              #print('%s is assigned to an operator at %g' % (self.name, self.env.now))\n",
        "              yield self.env.process(self.ask_question(operator_num))\n",
        "              #print('%s is done at %g' % (self.name, self.env.now))\n",
        "              global last_customer_time\n",
        "              last_customer_time = self.env.now\n",
        "\n",
        "            else:\n",
        "              # We reneged because waiting time exceeded 10 mins\n",
        "              #print('%7.4f %s: RENEGED ' % (self.env.now, self.name))\n",
        "              unsatisfied_customers_10.append(self.name)\n",
        "              self.leave_time = self.env.now\n",
        "              if(operator_num == 1):\n",
        "                  queue_length_time_op1.append((self.env.now, len(operator1.queue)))\n",
        "              else:\n",
        "                  queue_length_time_op2.append((self.env.now, len(operator2.queue)))\n",
        "\n",
        "    # route customer to either true operator or misroute\n",
        "    def probabilty(self):\n",
        "        result = random.uniform(0,100)\n",
        "        if result <= 10:\n",
        "          # caller is misrouted\n",
        "          #print(\"%s MISDIRECTED :(  at %g \" %(self.name, self.env.now))\n",
        "          unsatisfied_customers.append(self.name)\n",
        "        elif result <=37:\n",
        "          # caller is assigned to op1\n",
        "          #print(\"%s redirected to operator 1 at %g \" %(self.name, self.env.now))\n",
        "          yield self.env.process(self.redirect(operator1, 1))\n",
        "        else:\n",
        "          # caller is assigned to op2\n",
        "          #print(\"%s redirected to operator 2 at %g \" %(self.name, self.env.now))\n",
        "          yield self.env.process(self.redirect(operator2, 2))\n",
        "\n",
        "    # calling answering system\n",
        "    def firstCall(self,answeringMachine):\n",
        "      #print('%s calls the service at %g .' % (self.name, self.env.now))\n",
        "      with answeringMachine.machine.request() as request:\n",
        "          results = yield request | env.timeout(PATIENCE)\n",
        "          if request in results:\n",
        "              # We answered by the machine\n",
        "              #print('%s is answered by an answerMachine at %g' % (self.name, self.env.now))\n",
        "              yield env.process(answeringMachine.recognize(self.name))\n",
        "              aw_time = self.env.now - self.arrival_t\n",
        "              self.total_service_time+=aw_time\n",
        "              answering_machine_times.append(aw_time)\n",
        "              #print('%s leaves the answering machine to be directed at %g it took %g. minutes' \n",
        "              #      % (self.name, self.env.now, aw_time))\n",
        "\n",
        "              yield self.env.process(self.probabilty())\n",
        "              twt_tst_ratio.append((self.total_waiting_time/(self.total_waiting_time+self.total_service_time), self.name, self.arrival_t, self.redirection_time, self.leave_time))\n",
        "              \n",
        "              #print('%s left the system at %g' % (self.name, self.env.now))\n",
        "              system_time.append(self.env.now - self.arrival_t)\n",
        "\n",
        "          else:\n",
        "              # We dropped\n",
        "              #print('%7.4f %s: DROPPED because there is no available ANSWERING MACHINE' % (self.env.now, self.name))\n",
        "              drop_customers.append(self.name)\n"
      ],
      "execution_count": 0,
      "outputs": []
    },
    {
      "cell_type": "code",
      "metadata": {
        "id": "cGDD5h6pchO6",
        "colab_type": "code",
        "colab": {}
      },
      "source": [
        "def setup(env, num_machines, recognize_rate, inter_rate, num_customers=1000):\n",
        "   # Create the aw\n",
        "   AnswerMachine1 = AnswerMachine(env, num_machines, recognize_rate)\n",
        "   for i in range(num_customers):\n",
        "        yield env.timeout(random.expovariate(inter_rate))\n",
        "        customer = Customer('Cust %s' %(i+1), env, AnswerMachine1) \n",
        "   global simulation_finished\n",
        "   simulation_finished = True\n",
        "    \n",
        "def simulation_results(seed):\n",
        "    return {\"Seed\": seed,\n",
        "            \"Answer_System_Util\": (sum(answering_machine_times)/NUM_MACHINES/SIMULATION_TIME)*100,\n",
        "            \"Operator1_Util\": (sum(service_times_op1)/SIMULATION_TIME)*100,\n",
        "            \"Operator2_Util\": (sum(service_times_op2)/SIMULATION_TIME)*100,\n",
        "            \"Avg_queue_len_1\": calculateAvgQueueLength(queue_length_time_op1),\n",
        "            \"Avg_queue_len_2\": calculateAvgQueueLength(queue_length_time_op2),\n",
        "            \"Max_total_wait_time\": sum(queue_w_times_op1) + sum(queue_w_times_op2),\n",
        "            \"Max_total_system_time\": sum(system_time),\n",
        "            \"MTWT/MTST\": ((sum(queue_w_times_op1) + sum(queue_w_times_op2)) / sum(system_time))*100,\n",
        "            \"avg_wait_time\" : (sum(queue_w_times_op1)+sum(queue_w_times_op2)) /(len(queue_w_times_op1)+len(queue_w_times_op2)),\n",
        "            \"Num_Of_Unsatisfied_Customers\": len(unsatisfied_customers)+len(unsatisfied_customers_10),\n",
        "            \"Simulation_time\": SIMULATION_TIME\n",
        "           }"
      ],
      "execution_count": 0,
      "outputs": []
    },
    {
      "cell_type": "code",
      "metadata": {
        "id": "_67Y8fPAchO-",
        "colab_type": "code",
        "colab": {}
      },
      "source": [
        "results_1000 = []\n",
        "results_5000 = []\n",
        "op1_breaktime = []\n",
        "op2_breaktime = []"
      ],
      "execution_count": 0,
      "outputs": []
    },
    {
      "cell_type": "markdown",
      "metadata": {
        "id": "accPiyk_lKtZ",
        "colab_type": "text"
      },
      "source": [
        "**Running Simulation**\n",
        "\n",
        "You may want to ignore the following two cell's outputs. Print statements are used for double check.\n",
        "\n"
      ]
    },
    {
      "cell_type": "code",
      "metadata": {
        "id": "zyuVLl4qchPC",
        "colab_type": "code",
        "colab": {}
      },
      "source": [
        "for i in range(10):\n",
        "    # Initializing data holders and parameters\n",
        "    last_customer_time = 0\n",
        "    simulation_finished = False\n",
        "    RANDOM_SEED = random_seeds[i]\n",
        "    random.seed(RANDOM_SEED)\n",
        "    np.random.seed(RANDOM_SEED)\n",
        "    drop_customers = []         # their phones never opened...\n",
        "    unsatisfied_customers_10 = []  # customers who waited 10 mins  \n",
        "    unsatisfied_customers = []  # customers who  misdirected \n",
        "    queue_w_times_op1 = []      # queue waiting times for operator1\n",
        "    queue_w_times_op2 = []      # queue waiting times for operator2\n",
        "    service_times_op1 = []      # (with operator 1)\n",
        "    service_times_op2 = []      # (with operator 2)\n",
        "    SIMULATION_TIME=0           # it the end of the simulation, it will be filled\n",
        "    answering_machine_times = []   # duration of time spent during voice recognition\n",
        "    system_time = []            # total number of minutes a served customer spent in the system\n",
        "    twt_tst_ratio = []          # total waiting time to total system time ratio\n",
        "    queue_length_time_op1 = [] # Queue length info for operator 1\n",
        "    queue_length_time_op2 = [] # Queue length info for operator 1\n",
        "    env = simpy.Environment()\n",
        "    operator1 = simpy.Resource(env, capacity = 1) #no breaks added yet\n",
        "    operator2 = simpy.Resource(env, capacity = 1)\n",
        "    env.process(setup(env, NUM_MACHINES, RECOGNITION_RATE, INTERARRIVAL_RATE,1000))\n",
        "    env.process(generate_breaks(env))\n",
        "    env.process(take_break_1(env))\n",
        "    env.process(take_break_2(env))\n",
        "    env.run()\n",
        "    SIMULATION_TIME=last_customer_time\n",
        "    results_1000.append(simulation_results(RANDOM_SEED))"
      ],
      "execution_count": 0,
      "outputs": []
    },
    {
      "cell_type": "code",
      "metadata": {
        "id": "TSH4Cv2gchPJ",
        "colab_type": "code",
        "colab": {}
      },
      "source": [
        "for i in range(10):\n",
        "    # Initializing data holders and parameters\n",
        "    last_customer_time = 0\n",
        "    simulation_finished = False\n",
        "    RANDOM_SEED = random_seeds[i]\n",
        "    random.seed(RANDOM_SEED)\n",
        "    np.random.seed(RANDOM_SEED)\n",
        "    drop_customers = []         # their phones never opened...\n",
        "    unsatisfied_customers_10 = []  # customers who waited 10 mins  \n",
        "    unsatisfied_customers = []  # customers who  misdirected \n",
        "    queue_w_times_op1 = []      # queue waiting times for operator1\n",
        "    queue_w_times_op2 = []      # queue waiting times for operator2\n",
        "    service_times_op1 = []      # (with operator 1)\n",
        "    service_times_op2 = []      # (with operator 2)\n",
        "    SIMULATION_TIME=0           # it the end of the simulation, it will be filled\n",
        "    answering_machine_times = []   # duration of time spent during voice recognition\n",
        "    system_time = []            # total number of minutes a served customer spent in the system\n",
        "    twt_tst_ratio = []          # total waiting time to total system time ratio\n",
        "    queue_length_time_op1 = [] # Queue length info for operator 1\n",
        "    queue_length_time_op2 = [] # Queue length info for operator 1\n",
        "    #Initializing simulation\n",
        "    env = simpy.Environment()\n",
        "    operator1 = simpy.Resource(env, capacity = 1) #no breaks added yet\n",
        "    operator2 = simpy.Resource(env, capacity = 1)\n",
        "    env.process(setup(env, NUM_MACHINES, RECOGNITION_RATE, INTERARRIVAL_RATE,5000))\n",
        "    env.process(generate_breaks(env))\n",
        "    env.process(take_break_1(env))\n",
        "    env.process(take_break_2(env))\n",
        "    env.run()\n",
        "    SIMULATION_TIME=last_customer_time\n",
        "    #Results\n",
        "    results_5000.append(simulation_results(RANDOM_SEED))"
      ],
      "execution_count": 0,
      "outputs": []
    },
    {
      "cell_type": "code",
      "metadata": {
        "id": "FJhhY_Fuc9Fw",
        "colab_type": "code",
        "colab": {}
      },
      "source": [
        "import pandas as pd"
      ],
      "execution_count": 0,
      "outputs": []
    },
    {
      "cell_type": "markdown",
      "metadata": {
        "id": "uFldZ_xbF7P4",
        "colab_type": "text"
      },
      "source": [
        "**Statistics for 1000 Customers**"
      ]
    },
    {
      "cell_type": "code",
      "metadata": {
        "id": "3tbsJYVGc-jE",
        "colab_type": "code",
        "outputId": "28ff8416-b226-426d-98a8-55ba79abd654",
        "colab": {
          "base_uri": "https://localhost:8080/",
          "height": 359
        }
      },
      "source": [
        "data1k = pd.DataFrame.from_dict(results_1000)\n",
        "data1k"
      ],
      "execution_count": 14,
      "outputs": [
        {
          "output_type": "execute_result",
          "data": {
            "text/html": [
              "<div>\n",
              "<style scoped>\n",
              "    .dataframe tbody tr th:only-of-type {\n",
              "        vertical-align: middle;\n",
              "    }\n",
              "\n",
              "    .dataframe tbody tr th {\n",
              "        vertical-align: top;\n",
              "    }\n",
              "\n",
              "    .dataframe thead th {\n",
              "        text-align: right;\n",
              "    }\n",
              "</style>\n",
              "<table border=\"1\" class=\"dataframe\">\n",
              "  <thead>\n",
              "    <tr style=\"text-align: right;\">\n",
              "      <th></th>\n",
              "      <th>Seed</th>\n",
              "      <th>Answer_System_Util</th>\n",
              "      <th>Operator1_Util</th>\n",
              "      <th>Operator2_Util</th>\n",
              "      <th>Avg_queue_len_1</th>\n",
              "      <th>Avg_queue_len_2</th>\n",
              "      <th>Max_total_wait_time</th>\n",
              "      <th>Max_total_system_time</th>\n",
              "      <th>MTWT/MTST</th>\n",
              "      <th>avg_wait_time</th>\n",
              "      <th>Num_Of_Unsatisfied_Customers</th>\n",
              "      <th>Simulation_time</th>\n",
              "    </tr>\n",
              "  </thead>\n",
              "  <tbody>\n",
              "    <tr>\n",
              "      <th>0</th>\n",
              "      <td>9</td>\n",
              "      <td>0.788641</td>\n",
              "      <td>44.766676</td>\n",
              "      <td>41.131224</td>\n",
              "      <td>0.365499</td>\n",
              "      <td>0.199143</td>\n",
              "      <td>1780.102830</td>\n",
              "      <td>11830.760778</td>\n",
              "      <td>15.046394</td>\n",
              "      <td>2.000116</td>\n",
              "      <td>162</td>\n",
              "      <td>6100.106421</td>\n",
              "    </tr>\n",
              "    <tr>\n",
              "      <th>1</th>\n",
              "      <td>8</td>\n",
              "      <td>0.864075</td>\n",
              "      <td>48.845112</td>\n",
              "      <td>42.202846</td>\n",
              "      <td>0.375994</td>\n",
              "      <td>0.279054</td>\n",
              "      <td>2107.360894</td>\n",
              "      <td>12601.589548</td>\n",
              "      <td>16.722977</td>\n",
              "      <td>2.308172</td>\n",
              "      <td>138</td>\n",
              "      <td>5913.724598</td>\n",
              "    </tr>\n",
              "    <tr>\n",
              "      <th>2</th>\n",
              "      <td>7</td>\n",
              "      <td>0.892891</td>\n",
              "      <td>48.707365</td>\n",
              "      <td>44.304568</td>\n",
              "      <td>0.430205</td>\n",
              "      <td>0.277755</td>\n",
              "      <td>2168.933119</td>\n",
              "      <td>12215.628641</td>\n",
              "      <td>17.755395</td>\n",
              "      <td>2.412606</td>\n",
              "      <td>167</td>\n",
              "      <td>5511.047383</td>\n",
              "    </tr>\n",
              "    <tr>\n",
              "      <th>3</th>\n",
              "      <td>6</td>\n",
              "      <td>0.855937</td>\n",
              "      <td>44.515552</td>\n",
              "      <td>42.466448</td>\n",
              "      <td>0.357070</td>\n",
              "      <td>0.227717</td>\n",
              "      <td>1873.927049</td>\n",
              "      <td>12250.045612</td>\n",
              "      <td>15.297307</td>\n",
              "      <td>2.061526</td>\n",
              "      <td>143</td>\n",
              "      <td>6012.501178</td>\n",
              "    </tr>\n",
              "    <tr>\n",
              "      <th>4</th>\n",
              "      <td>5</td>\n",
              "      <td>0.764848</td>\n",
              "      <td>44.452163</td>\n",
              "      <td>42.188343</td>\n",
              "      <td>0.393729</td>\n",
              "      <td>0.258601</td>\n",
              "      <td>1925.787356</td>\n",
              "      <td>11888.388999</td>\n",
              "      <td>16.198893</td>\n",
              "      <td>2.123250</td>\n",
              "      <td>156</td>\n",
              "      <td>6107.328698</td>\n",
              "    </tr>\n",
              "    <tr>\n",
              "      <th>5</th>\n",
              "      <td>4</td>\n",
              "      <td>0.838588</td>\n",
              "      <td>41.950022</td>\n",
              "      <td>40.675488</td>\n",
              "      <td>0.383868</td>\n",
              "      <td>0.203067</td>\n",
              "      <td>1647.614339</td>\n",
              "      <td>11682.553645</td>\n",
              "      <td>14.103204</td>\n",
              "      <td>1.874419</td>\n",
              "      <td>164</td>\n",
              "      <td>6027.557166</td>\n",
              "    </tr>\n",
              "    <tr>\n",
              "      <th>6</th>\n",
              "      <td>3</td>\n",
              "      <td>0.807514</td>\n",
              "      <td>45.809346</td>\n",
              "      <td>41.386881</td>\n",
              "      <td>0.311904</td>\n",
              "      <td>0.222411</td>\n",
              "      <td>1918.974472</td>\n",
              "      <td>12020.552104</td>\n",
              "      <td>15.964113</td>\n",
              "      <td>2.090386</td>\n",
              "      <td>142</td>\n",
              "      <td>6014.720182</td>\n",
              "    </tr>\n",
              "    <tr>\n",
              "      <th>7</th>\n",
              "      <td>2</td>\n",
              "      <td>0.843235</td>\n",
              "      <td>42.722403</td>\n",
              "      <td>42.787651</td>\n",
              "      <td>0.412428</td>\n",
              "      <td>0.261767</td>\n",
              "      <td>1917.963580</td>\n",
              "      <td>12043.843329</td>\n",
              "      <td>15.924847</td>\n",
              "      <td>2.112295</td>\n",
              "      <td>157</td>\n",
              "      <td>5962.236896</td>\n",
              "    </tr>\n",
              "    <tr>\n",
              "      <th>8</th>\n",
              "      <td>1</td>\n",
              "      <td>0.786278</td>\n",
              "      <td>43.140918</td>\n",
              "      <td>41.660686</td>\n",
              "      <td>0.364361</td>\n",
              "      <td>0.221695</td>\n",
              "      <td>1871.003606</td>\n",
              "      <td>11752.727701</td>\n",
              "      <td>15.919739</td>\n",
              "      <td>2.067407</td>\n",
              "      <td>151</td>\n",
              "      <td>6046.479640</td>\n",
              "    </tr>\n",
              "    <tr>\n",
              "      <th>9</th>\n",
              "      <td>10</td>\n",
              "      <td>0.812896</td>\n",
              "      <td>46.978923</td>\n",
              "      <td>40.368514</td>\n",
              "      <td>0.389268</td>\n",
              "      <td>0.255671</td>\n",
              "      <td>1984.780962</td>\n",
              "      <td>12092.882657</td>\n",
              "      <td>16.412803</td>\n",
              "      <td>2.188292</td>\n",
              "      <td>150</td>\n",
              "      <td>5993.997495</td>\n",
              "    </tr>\n",
              "  </tbody>\n",
              "</table>\n",
              "</div>"
            ],
            "text/plain": [
              "   Seed  Answer_System_Util  ...  Num_Of_Unsatisfied_Customers  Simulation_time\n",
              "0     9            0.788641  ...                           162      6100.106421\n",
              "1     8            0.864075  ...                           138      5913.724598\n",
              "2     7            0.892891  ...                           167      5511.047383\n",
              "3     6            0.855937  ...                           143      6012.501178\n",
              "4     5            0.764848  ...                           156      6107.328698\n",
              "5     4            0.838588  ...                           164      6027.557166\n",
              "6     3            0.807514  ...                           142      6014.720182\n",
              "7     2            0.843235  ...                           157      5962.236896\n",
              "8     1            0.786278  ...                           151      6046.479640\n",
              "9    10            0.812896  ...                           150      5993.997495\n",
              "\n",
              "[10 rows x 12 columns]"
            ]
          },
          "metadata": {
            "tags": []
          },
          "execution_count": 14
        }
      ]
    },
    {
      "cell_type": "code",
      "metadata": {
        "id": "0JlAPRd7fbSE",
        "colab_type": "code",
        "colab": {
          "base_uri": "https://localhost:8080/",
          "height": 297
        },
        "outputId": "66d3cc83-aa55-46eb-b321-8687873e289d"
      },
      "source": [
        "data1k.drop(columns= [\"Seed\"]).describe(include='all')"
      ],
      "execution_count": 35,
      "outputs": [
        {
          "output_type": "execute_result",
          "data": {
            "text/html": [
              "<div>\n",
              "<style scoped>\n",
              "    .dataframe tbody tr th:only-of-type {\n",
              "        vertical-align: middle;\n",
              "    }\n",
              "\n",
              "    .dataframe tbody tr th {\n",
              "        vertical-align: top;\n",
              "    }\n",
              "\n",
              "    .dataframe thead th {\n",
              "        text-align: right;\n",
              "    }\n",
              "</style>\n",
              "<table border=\"1\" class=\"dataframe\">\n",
              "  <thead>\n",
              "    <tr style=\"text-align: right;\">\n",
              "      <th></th>\n",
              "      <th>Answer_System_Util</th>\n",
              "      <th>Operator1_Util</th>\n",
              "      <th>Operator2_Util</th>\n",
              "      <th>Avg_queue_len_1</th>\n",
              "      <th>Avg_queue_len_2</th>\n",
              "      <th>Max_total_wait_time</th>\n",
              "      <th>Max_total_system_time</th>\n",
              "      <th>MTWT/MTST</th>\n",
              "      <th>avg_wait_time</th>\n",
              "      <th>Num_Of_Unsatisfied_Customers</th>\n",
              "      <th>Simulation_time</th>\n",
              "    </tr>\n",
              "  </thead>\n",
              "  <tbody>\n",
              "    <tr>\n",
              "      <th>count</th>\n",
              "      <td>10.000000</td>\n",
              "      <td>10.000000</td>\n",
              "      <td>10.000000</td>\n",
              "      <td>10.000000</td>\n",
              "      <td>10.000000</td>\n",
              "      <td>10.000000</td>\n",
              "      <td>10.000000</td>\n",
              "      <td>10.000000</td>\n",
              "      <td>10.000000</td>\n",
              "      <td>10.000000</td>\n",
              "      <td>10.000000</td>\n",
              "    </tr>\n",
              "    <tr>\n",
              "      <th>mean</th>\n",
              "      <td>0.825490</td>\n",
              "      <td>45.188848</td>\n",
              "      <td>41.917265</td>\n",
              "      <td>0.378433</td>\n",
              "      <td>0.240688</td>\n",
              "      <td>1919.644821</td>\n",
              "      <td>12037.897301</td>\n",
              "      <td>15.934567</td>\n",
              "      <td>2.123847</td>\n",
              "      <td>153.000000</td>\n",
              "      <td>5968.969966</td>\n",
              "    </tr>\n",
              "    <tr>\n",
              "      <th>std</th>\n",
              "      <td>0.040138</td>\n",
              "      <td>2.386984</td>\n",
              "      <td>1.145962</td>\n",
              "      <td>0.032439</td>\n",
              "      <td>0.029515</td>\n",
              "      <td>148.919940</td>\n",
              "      <td>272.957663</td>\n",
              "      <td>0.988018</td>\n",
              "      <td>0.151788</td>\n",
              "      <td>9.899495</td>\n",
              "      <td>171.005205</td>\n",
              "    </tr>\n",
              "    <tr>\n",
              "      <th>min</th>\n",
              "      <td>0.764848</td>\n",
              "      <td>41.950022</td>\n",
              "      <td>40.368514</td>\n",
              "      <td>0.311904</td>\n",
              "      <td>0.199143</td>\n",
              "      <td>1647.614339</td>\n",
              "      <td>11682.553645</td>\n",
              "      <td>14.103204</td>\n",
              "      <td>1.874419</td>\n",
              "      <td>138.000000</td>\n",
              "      <td>5511.047383</td>\n",
              "    </tr>\n",
              "    <tr>\n",
              "      <th>25%</th>\n",
              "      <td>0.793359</td>\n",
              "      <td>43.468729</td>\n",
              "      <td>41.195139</td>\n",
              "      <td>0.364645</td>\n",
              "      <td>0.221874</td>\n",
              "      <td>1871.734467</td>\n",
              "      <td>11845.167833</td>\n",
              "      <td>15.452915</td>\n",
              "      <td>2.062996</td>\n",
              "      <td>144.750000</td>\n",
              "      <td>5970.177046</td>\n",
              "    </tr>\n",
              "    <tr>\n",
              "      <th>50%</th>\n",
              "      <td>0.825742</td>\n",
              "      <td>44.641114</td>\n",
              "      <td>41.924514</td>\n",
              "      <td>0.379931</td>\n",
              "      <td>0.241694</td>\n",
              "      <td>1918.469026</td>\n",
              "      <td>12032.197716</td>\n",
              "      <td>15.944480</td>\n",
              "      <td>2.101340</td>\n",
              "      <td>153.500000</td>\n",
              "      <td>6013.610680</td>\n",
              "    </tr>\n",
              "    <tr>\n",
              "      <th>75%</th>\n",
              "      <td>0.852762</td>\n",
              "      <td>46.686528</td>\n",
              "      <td>42.400547</td>\n",
              "      <td>0.392614</td>\n",
              "      <td>0.260975</td>\n",
              "      <td>1970.032561</td>\n",
              "      <td>12184.942145</td>\n",
              "      <td>16.359325</td>\n",
              "      <td>2.172031</td>\n",
              "      <td>160.750000</td>\n",
              "      <td>6041.749021</td>\n",
              "    </tr>\n",
              "    <tr>\n",
              "      <th>max</th>\n",
              "      <td>0.892891</td>\n",
              "      <td>48.845112</td>\n",
              "      <td>44.304568</td>\n",
              "      <td>0.430205</td>\n",
              "      <td>0.279054</td>\n",
              "      <td>2168.933119</td>\n",
              "      <td>12601.589548</td>\n",
              "      <td>17.755395</td>\n",
              "      <td>2.412606</td>\n",
              "      <td>167.000000</td>\n",
              "      <td>6107.328698</td>\n",
              "    </tr>\n",
              "  </tbody>\n",
              "</table>\n",
              "</div>"
            ],
            "text/plain": [
              "       Answer_System_Util  ...  Simulation_time\n",
              "count           10.000000  ...        10.000000\n",
              "mean             0.825490  ...      5968.969966\n",
              "std              0.040138  ...       171.005205\n",
              "min              0.764848  ...      5511.047383\n",
              "25%              0.793359  ...      5970.177046\n",
              "50%              0.825742  ...      6013.610680\n",
              "75%              0.852762  ...      6041.749021\n",
              "max              0.892891  ...      6107.328698\n",
              "\n",
              "[8 rows x 11 columns]"
            ]
          },
          "metadata": {
            "tags": []
          },
          "execution_count": 35
        }
      ]
    },
    {
      "cell_type": "code",
      "metadata": {
        "id": "KEDChuT_ihld",
        "colab_type": "code",
        "colab": {
          "base_uri": "https://localhost:8080/",
          "height": 170
        },
        "outputId": "b624a8eb-d7fe-4c47-b971-ab7c4aa5a65b"
      },
      "source": [
        "data1k[\"Num_Of_Unsatisfied_Customers\"].describe(include='all')"
      ],
      "execution_count": 37,
      "outputs": [
        {
          "output_type": "execute_result",
          "data": {
            "text/plain": [
              "count     10.000000\n",
              "mean     153.000000\n",
              "std        9.899495\n",
              "min      138.000000\n",
              "25%      144.750000\n",
              "50%      153.500000\n",
              "75%      160.750000\n",
              "max      167.000000\n",
              "Name: Num_Of_Unsatisfied_Customers, dtype: float64"
            ]
          },
          "metadata": {
            "tags": []
          },
          "execution_count": 37
        }
      ]
    },
    {
      "cell_type": "markdown",
      "metadata": {
        "id": "uwdYEjA_GAoJ",
        "colab_type": "text"
      },
      "source": [
        "**Statistics for 5000 Customers**"
      ]
    },
    {
      "cell_type": "code",
      "metadata": {
        "id": "WEe7WzJfYNtz",
        "colab_type": "code",
        "outputId": "8efaf6df-b6e5-48e1-8801-2d10cc74b4de",
        "colab": {
          "base_uri": "https://localhost:8080/",
          "height": 359
        }
      },
      "source": [
        "data5k = pd.DataFrame.from_dict(results_5000)\n",
        "data5k"
      ],
      "execution_count": 16,
      "outputs": [
        {
          "output_type": "execute_result",
          "data": {
            "text/html": [
              "<div>\n",
              "<style scoped>\n",
              "    .dataframe tbody tr th:only-of-type {\n",
              "        vertical-align: middle;\n",
              "    }\n",
              "\n",
              "    .dataframe tbody tr th {\n",
              "        vertical-align: top;\n",
              "    }\n",
              "\n",
              "    .dataframe thead th {\n",
              "        text-align: right;\n",
              "    }\n",
              "</style>\n",
              "<table border=\"1\" class=\"dataframe\">\n",
              "  <thead>\n",
              "    <tr style=\"text-align: right;\">\n",
              "      <th></th>\n",
              "      <th>Seed</th>\n",
              "      <th>Answer_System_Util</th>\n",
              "      <th>Operator1_Util</th>\n",
              "      <th>Operator2_Util</th>\n",
              "      <th>Avg_queue_len_1</th>\n",
              "      <th>Avg_queue_len_2</th>\n",
              "      <th>Max_total_wait_time</th>\n",
              "      <th>Max_total_system_time</th>\n",
              "      <th>MTWT/MTST</th>\n",
              "      <th>avg_wait_time</th>\n",
              "      <th>Num_Of_Unsatisfied_Customers</th>\n",
              "      <th>Simulation_time</th>\n",
              "    </tr>\n",
              "  </thead>\n",
              "  <tbody>\n",
              "    <tr>\n",
              "      <th>0</th>\n",
              "      <td>9</td>\n",
              "      <td>0.816389</td>\n",
              "      <td>45.295703</td>\n",
              "      <td>40.146492</td>\n",
              "      <td>0.375693</td>\n",
              "      <td>0.228977</td>\n",
              "      <td>9544.663234</td>\n",
              "      <td>60554.905307</td>\n",
              "      <td>15.761998</td>\n",
              "      <td>2.115395</td>\n",
              "      <td>774</td>\n",
              "      <td>30530.235427</td>\n",
              "    </tr>\n",
              "    <tr>\n",
              "      <th>1</th>\n",
              "      <td>8</td>\n",
              "      <td>0.863237</td>\n",
              "      <td>45.530369</td>\n",
              "      <td>41.182325</td>\n",
              "      <td>0.421645</td>\n",
              "      <td>0.263155</td>\n",
              "      <td>10263.098073</td>\n",
              "      <td>61202.092178</td>\n",
              "      <td>16.769195</td>\n",
              "      <td>2.279169</td>\n",
              "      <td>811</td>\n",
              "      <td>29438.304469</td>\n",
              "    </tr>\n",
              "    <tr>\n",
              "      <th>2</th>\n",
              "      <td>7</td>\n",
              "      <td>0.865630</td>\n",
              "      <td>46.316251</td>\n",
              "      <td>42.444939</td>\n",
              "      <td>0.362172</td>\n",
              "      <td>0.258059</td>\n",
              "      <td>9949.399575</td>\n",
              "      <td>60835.563701</td>\n",
              "      <td>16.354578</td>\n",
              "      <td>2.204120</td>\n",
              "      <td>779</td>\n",
              "      <td>29024.045583</td>\n",
              "    </tr>\n",
              "    <tr>\n",
              "      <th>3</th>\n",
              "      <td>6</td>\n",
              "      <td>0.846834</td>\n",
              "      <td>45.000056</td>\n",
              "      <td>41.086000</td>\n",
              "      <td>0.387272</td>\n",
              "      <td>0.232007</td>\n",
              "      <td>9446.518270</td>\n",
              "      <td>60940.434309</td>\n",
              "      <td>15.501232</td>\n",
              "      <td>2.094107</td>\n",
              "      <td>775</td>\n",
              "      <td>30154.056226</td>\n",
              "    </tr>\n",
              "    <tr>\n",
              "      <th>4</th>\n",
              "      <td>5</td>\n",
              "      <td>0.794023</td>\n",
              "      <td>43.829267</td>\n",
              "      <td>41.544748</td>\n",
              "      <td>0.346484</td>\n",
              "      <td>0.251297</td>\n",
              "      <td>9122.199506</td>\n",
              "      <td>59894.263477</td>\n",
              "      <td>15.230506</td>\n",
              "      <td>2.010624</td>\n",
              "      <td>717</td>\n",
              "      <td>30812.712688</td>\n",
              "    </tr>\n",
              "    <tr>\n",
              "      <th>5</th>\n",
              "      <td>4</td>\n",
              "      <td>0.829542</td>\n",
              "      <td>44.940208</td>\n",
              "      <td>40.584073</td>\n",
              "      <td>0.374683</td>\n",
              "      <td>0.229048</td>\n",
              "      <td>9279.651433</td>\n",
              "      <td>60474.783548</td>\n",
              "      <td>15.344663</td>\n",
              "      <td>2.070426</td>\n",
              "      <td>781</td>\n",
              "      <td>30386.747064</td>\n",
              "    </tr>\n",
              "    <tr>\n",
              "      <th>6</th>\n",
              "      <td>3</td>\n",
              "      <td>0.801684</td>\n",
              "      <td>43.836094</td>\n",
              "      <td>40.446680</td>\n",
              "      <td>0.363539</td>\n",
              "      <td>0.232733</td>\n",
              "      <td>9454.318219</td>\n",
              "      <td>59665.136921</td>\n",
              "      <td>15.845632</td>\n",
              "      <td>2.096301</td>\n",
              "      <td>787</td>\n",
              "      <td>30532.362053</td>\n",
              "    </tr>\n",
              "    <tr>\n",
              "      <th>7</th>\n",
              "      <td>2</td>\n",
              "      <td>0.832389</td>\n",
              "      <td>46.019526</td>\n",
              "      <td>41.080493</td>\n",
              "      <td>0.402647</td>\n",
              "      <td>0.242375</td>\n",
              "      <td>9849.632142</td>\n",
              "      <td>61013.186382</td>\n",
              "      <td>16.143448</td>\n",
              "      <td>2.173352</td>\n",
              "      <td>790</td>\n",
              "      <td>30036.334473</td>\n",
              "    </tr>\n",
              "    <tr>\n",
              "      <th>8</th>\n",
              "      <td>1</td>\n",
              "      <td>0.807802</td>\n",
              "      <td>43.083977</td>\n",
              "      <td>41.617893</td>\n",
              "      <td>0.359713</td>\n",
              "      <td>0.213068</td>\n",
              "      <td>8821.645999</td>\n",
              "      <td>58782.671088</td>\n",
              "      <td>15.007222</td>\n",
              "      <td>1.964294</td>\n",
              "      <td>758</td>\n",
              "      <td>30191.207789</td>\n",
              "    </tr>\n",
              "    <tr>\n",
              "      <th>9</th>\n",
              "      <td>10</td>\n",
              "      <td>0.815339</td>\n",
              "      <td>44.747231</td>\n",
              "      <td>41.372703</td>\n",
              "      <td>0.363415</td>\n",
              "      <td>0.249846</td>\n",
              "      <td>9682.323718</td>\n",
              "      <td>59927.059047</td>\n",
              "      <td>16.156848</td>\n",
              "      <td>2.139740</td>\n",
              "      <td>780</td>\n",
              "      <td>29969.330768</td>\n",
              "    </tr>\n",
              "  </tbody>\n",
              "</table>\n",
              "</div>"
            ],
            "text/plain": [
              "   Seed  Answer_System_Util  ...  Num_Of_Unsatisfied_Customers  Simulation_time\n",
              "0     9            0.816389  ...                           774     30530.235427\n",
              "1     8            0.863237  ...                           811     29438.304469\n",
              "2     7            0.865630  ...                           779     29024.045583\n",
              "3     6            0.846834  ...                           775     30154.056226\n",
              "4     5            0.794023  ...                           717     30812.712688\n",
              "5     4            0.829542  ...                           781     30386.747064\n",
              "6     3            0.801684  ...                           787     30532.362053\n",
              "7     2            0.832389  ...                           790     30036.334473\n",
              "8     1            0.807802  ...                           758     30191.207789\n",
              "9    10            0.815339  ...                           780     29969.330768\n",
              "\n",
              "[10 rows x 12 columns]"
            ]
          },
          "metadata": {
            "tags": []
          },
          "execution_count": 16
        }
      ]
    },
    {
      "cell_type": "code",
      "metadata": {
        "id": "LPV4cx-CgX-s",
        "colab_type": "code",
        "colab": {
          "base_uri": "https://localhost:8080/",
          "height": 297
        },
        "outputId": "8507b52c-8484-426e-b0e8-aad79117fd87"
      },
      "source": [
        "data5k.drop(columns= [\"Seed\"]).describe(include='all')"
      ],
      "execution_count": 36,
      "outputs": [
        {
          "output_type": "execute_result",
          "data": {
            "text/html": [
              "<div>\n",
              "<style scoped>\n",
              "    .dataframe tbody tr th:only-of-type {\n",
              "        vertical-align: middle;\n",
              "    }\n",
              "\n",
              "    .dataframe tbody tr th {\n",
              "        vertical-align: top;\n",
              "    }\n",
              "\n",
              "    .dataframe thead th {\n",
              "        text-align: right;\n",
              "    }\n",
              "</style>\n",
              "<table border=\"1\" class=\"dataframe\">\n",
              "  <thead>\n",
              "    <tr style=\"text-align: right;\">\n",
              "      <th></th>\n",
              "      <th>Answer_System_Util</th>\n",
              "      <th>Operator1_Util</th>\n",
              "      <th>Operator2_Util</th>\n",
              "      <th>Avg_queue_len_1</th>\n",
              "      <th>Avg_queue_len_2</th>\n",
              "      <th>Max_total_wait_time</th>\n",
              "      <th>Max_total_system_time</th>\n",
              "      <th>MTWT/MTST</th>\n",
              "      <th>avg_wait_time</th>\n",
              "      <th>Num_Of_Unsatisfied_Customers</th>\n",
              "      <th>Simulation_time</th>\n",
              "    </tr>\n",
              "  </thead>\n",
              "  <tbody>\n",
              "    <tr>\n",
              "      <th>count</th>\n",
              "      <td>10.000000</td>\n",
              "      <td>10.000000</td>\n",
              "      <td>10.000000</td>\n",
              "      <td>10.000000</td>\n",
              "      <td>10.000000</td>\n",
              "      <td>10.000000</td>\n",
              "      <td>10.000000</td>\n",
              "      <td>10.000000</td>\n",
              "      <td>10.000000</td>\n",
              "      <td>10.000000</td>\n",
              "      <td>10.000000</td>\n",
              "    </tr>\n",
              "    <tr>\n",
              "      <th>mean</th>\n",
              "      <td>0.827287</td>\n",
              "      <td>44.859868</td>\n",
              "      <td>41.150635</td>\n",
              "      <td>0.375726</td>\n",
              "      <td>0.240057</td>\n",
              "      <td>9541.345017</td>\n",
              "      <td>60329.009596</td>\n",
              "      <td>15.811532</td>\n",
              "      <td>2.114753</td>\n",
              "      <td>775.200000</td>\n",
              "      <td>30107.533654</td>\n",
              "    </tr>\n",
              "    <tr>\n",
              "      <th>std</th>\n",
              "      <td>0.024898</td>\n",
              "      <td>1.022427</td>\n",
              "      <td>0.661072</td>\n",
              "      <td>0.022516</td>\n",
              "      <td>0.015549</td>\n",
              "      <td>419.134279</td>\n",
              "      <td>753.919047</td>\n",
              "      <td>0.552148</td>\n",
              "      <td>0.091463</td>\n",
              "      <td>24.484916</td>\n",
              "      <td>536.401874</td>\n",
              "    </tr>\n",
              "    <tr>\n",
              "      <th>min</th>\n",
              "      <td>0.794023</td>\n",
              "      <td>43.083977</td>\n",
              "      <td>40.146492</td>\n",
              "      <td>0.346484</td>\n",
              "      <td>0.213068</td>\n",
              "      <td>8821.645999</td>\n",
              "      <td>58782.671088</td>\n",
              "      <td>15.007222</td>\n",
              "      <td>1.964294</td>\n",
              "      <td>717.000000</td>\n",
              "      <td>29024.045583</td>\n",
              "    </tr>\n",
              "    <tr>\n",
              "      <th>25%</th>\n",
              "      <td>0.809686</td>\n",
              "      <td>44.063878</td>\n",
              "      <td>40.708178</td>\n",
              "      <td>0.362483</td>\n",
              "      <td>0.229788</td>\n",
              "      <td>9321.368142</td>\n",
              "      <td>59902.462369</td>\n",
              "      <td>15.383805</td>\n",
              "      <td>2.076347</td>\n",
              "      <td>774.250000</td>\n",
              "      <td>29986.081694</td>\n",
              "    </tr>\n",
              "    <tr>\n",
              "      <th>50%</th>\n",
              "      <td>0.822965</td>\n",
              "      <td>44.970132</td>\n",
              "      <td>41.134163</td>\n",
              "      <td>0.369111</td>\n",
              "      <td>0.237554</td>\n",
              "      <td>9499.490726</td>\n",
              "      <td>60514.844427</td>\n",
              "      <td>15.803815</td>\n",
              "      <td>2.105848</td>\n",
              "      <td>779.500000</td>\n",
              "      <td>30172.632008</td>\n",
              "    </tr>\n",
              "    <tr>\n",
              "      <th>75%</th>\n",
              "      <td>0.843223</td>\n",
              "      <td>45.471703</td>\n",
              "      <td>41.501737</td>\n",
              "      <td>0.384377</td>\n",
              "      <td>0.250934</td>\n",
              "      <td>9807.805036</td>\n",
              "      <td>60914.216657</td>\n",
              "      <td>16.153498</td>\n",
              "      <td>2.164949</td>\n",
              "      <td>785.500000</td>\n",
              "      <td>30494.363336</td>\n",
              "    </tr>\n",
              "    <tr>\n",
              "      <th>max</th>\n",
              "      <td>0.865630</td>\n",
              "      <td>46.316251</td>\n",
              "      <td>42.444939</td>\n",
              "      <td>0.421645</td>\n",
              "      <td>0.263155</td>\n",
              "      <td>10263.098073</td>\n",
              "      <td>61202.092178</td>\n",
              "      <td>16.769195</td>\n",
              "      <td>2.279169</td>\n",
              "      <td>811.000000</td>\n",
              "      <td>30812.712688</td>\n",
              "    </tr>\n",
              "  </tbody>\n",
              "</table>\n",
              "</div>"
            ],
            "text/plain": [
              "       Answer_System_Util  ...  Simulation_time\n",
              "count           10.000000  ...        10.000000\n",
              "mean             0.827287  ...     30107.533654\n",
              "std              0.024898  ...       536.401874\n",
              "min              0.794023  ...     29024.045583\n",
              "25%              0.809686  ...     29986.081694\n",
              "50%              0.822965  ...     30172.632008\n",
              "75%              0.843223  ...     30494.363336\n",
              "max              0.865630  ...     30812.712688\n",
              "\n",
              "[8 rows x 11 columns]"
            ]
          },
          "metadata": {
            "tags": []
          },
          "execution_count": 36
        }
      ]
    },
    {
      "cell_type": "code",
      "metadata": {
        "id": "P1K2ae7ojJM9",
        "colab_type": "code",
        "colab": {
          "base_uri": "https://localhost:8080/",
          "height": 170
        },
        "outputId": "a8b32446-c952-480a-a188-3e10609b1d00"
      },
      "source": [
        "data5k[\"Num_Of_Unsatisfied_Customers\"].describe(include='all')"
      ],
      "execution_count": 38,
      "outputs": [
        {
          "output_type": "execute_result",
          "data": {
            "text/plain": [
              "count     10.000000\n",
              "mean     775.200000\n",
              "std       24.484916\n",
              "min      717.000000\n",
              "25%      774.250000\n",
              "50%      779.500000\n",
              "75%      785.500000\n",
              "max      811.000000\n",
              "Name: Num_Of_Unsatisfied_Customers, dtype: float64"
            ]
          },
          "metadata": {
            "tags": []
          },
          "execution_count": 38
        }
      ]
    },
    {
      "cell_type": "markdown",
      "metadata": {
        "id": "RX_-lrdPGCU4",
        "colab_type": "text"
      },
      "source": [
        "**To see the graphics remove the comments and run that cell.** <br>\n",
        "**Do not forget to install _plotly_ and import it.** <br>\n",
        "All the graphs generated using the cells below are added to the report."
      ]
    },
    {
      "cell_type": "code",
      "metadata": {
        "id": "wlTw2na0GKtF",
        "colab_type": "code",
        "colab": {
          "base_uri": "https://localhost:8080/",
          "height": 34
        },
        "outputId": "6de4f29f-054f-42fe-9c47-09e48ebdf4da"
      },
      "source": [
        "\"\"\"!pip install plotly\n",
        "import plotly.graph_objects as go\"\"\""
      ],
      "execution_count": 17,
      "outputs": [
        {
          "output_type": "execute_result",
          "data": {
            "text/plain": [
              "'!pip install plotly\\nimport plotly.graph_objects as go'"
            ]
          },
          "metadata": {
            "tags": []
          },
          "execution_count": 17
        }
      ]
    },
    {
      "cell_type": "code",
      "metadata": {
        "id": "XnSrK3oCcJmt",
        "colab_type": "code",
        "outputId": "4558e083-82a4-4748-94f5-8ec4681ff19d",
        "colab": {
          "base_uri": "https://localhost:8080/",
          "height": 54
        }
      },
      "source": [
        "\"\"\"\n",
        "fig = go.Figure([go.Bar(x = random_seeds , y = data1k[\"Answer_System_Util\"] )])\n",
        "fig.update_layout(\n",
        "    title=\"Answering System Utilization for 1000 Customers\",\n",
        "    xaxis_title=\"Random Seeds\",\n",
        "    yaxis_title=\"Utilization Percentage (%)\",\n",
        "    font=dict(\n",
        "        family=\"Courier New, monospace\",\n",
        "        size=18,\n",
        "        color=\"#7f7f7f\"\n",
        "    )\n",
        ")\n",
        "fig.show()\n",
        "\"\"\""
      ],
      "execution_count": 18,
      "outputs": [
        {
          "output_type": "execute_result",
          "data": {
            "text/plain": [
              "'\\nfig = go.Figure([go.Bar(x = random_seeds , y = data1k[\"Answer_System_Util\"] )])\\nfig.update_layout(\\n    title=\"Answering System Utilization for 1000 Customers\",\\n    xaxis_title=\"Random Seeds\",\\n    yaxis_title=\"Utilization Percentage (%)\",\\n    font=dict(\\n        family=\"Courier New, monospace\",\\n        size=18,\\n        color=\"#7f7f7f\"\\n    )\\n)\\nfig.show()\\n'"
            ]
          },
          "metadata": {
            "tags": []
          },
          "execution_count": 18
        }
      ]
    },
    {
      "cell_type": "code",
      "metadata": {
        "id": "sL9lix_dr_3E",
        "colab_type": "code",
        "outputId": "b5fdf748-ff09-4e5d-ad79-69793f5f7d1b",
        "colab": {
          "base_uri": "https://localhost:8080/",
          "height": 54
        }
      },
      "source": [
        "\"\"\"fig = go.Figure([go.Bar(x = random_seeds , y = data5k[\"Answer_System_Util\"] )])\n",
        "fig.update_layout(\n",
        "    title=\"Answering System Utilization for 5000 Customers\",\n",
        "    xaxis_title=\"Random Seeds\",\n",
        "    yaxis_title=\"Utilization Percentage (%)\",\n",
        "    font=dict(\n",
        "        family=\"Courier New, monospace\",\n",
        "        size=18,\n",
        "        color=\"#7f7f7f\"\n",
        "    )\n",
        ")\n",
        "fig.show()\n",
        "\"\"\""
      ],
      "execution_count": 19,
      "outputs": [
        {
          "output_type": "execute_result",
          "data": {
            "text/plain": [
              "'fig = go.Figure([go.Bar(x = random_seeds , y = data5k[\"Answer_System_Util\"] )])\\nfig.update_layout(\\n    title=\"Answering System Utilization for 5000 Customers\",\\n    xaxis_title=\"Random Seeds\",\\n    yaxis_title=\"Utilization Percentage (%)\",\\n    font=dict(\\n        family=\"Courier New, monospace\",\\n        size=18,\\n        color=\"#7f7f7f\"\\n    )\\n)\\nfig.show()\\n'"
            ]
          },
          "metadata": {
            "tags": []
          },
          "execution_count": 19
        }
      ]
    },
    {
      "cell_type": "code",
      "metadata": {
        "id": "u1gUuOqGvxO4",
        "colab_type": "code",
        "outputId": "b23c2e03-f971-429a-f580-1dc10116ad20",
        "colab": {
          "base_uri": "https://localhost:8080/",
          "height": 54
        }
      },
      "source": [
        "\"\"\"fig = go.Figure([go.Bar(x = random_seeds , y = data1k[\"Operator1_Util\"] )])\n",
        "fig.update_layout(\n",
        "    title=\"Utilization of Operator 1 for 1000 Customers\",\n",
        "    xaxis_title=\"Random Seeds\",\n",
        "    yaxis_title=\"Utilization Percentage\",\n",
        "    font=dict(\n",
        "        family=\"Courier New, monospace\",\n",
        "        size=18,\n",
        "        color=\"#7f7f7f\"\n",
        "    )\n",
        ")\n",
        "fig.show()\"\"\""
      ],
      "execution_count": 20,
      "outputs": [
        {
          "output_type": "execute_result",
          "data": {
            "text/plain": [
              "'fig = go.Figure([go.Bar(x = random_seeds , y = data1k[\"Operator1_Util\"] )])\\nfig.update_layout(\\n    title=\"Utilization of Operator 1 for 1000 Customers\",\\n    xaxis_title=\"Random Seeds\",\\n    yaxis_title=\"Utilization Percentage\",\\n    font=dict(\\n        family=\"Courier New, monospace\",\\n        size=18,\\n        color=\"#7f7f7f\"\\n    )\\n)\\nfig.show()'"
            ]
          },
          "metadata": {
            "tags": []
          },
          "execution_count": 20
        }
      ]
    },
    {
      "cell_type": "code",
      "metadata": {
        "id": "pp6IZZiGu_In",
        "colab_type": "code",
        "outputId": "3b2e3d8a-cfe0-4ffe-8828-9f077cf35918",
        "colab": {
          "base_uri": "https://localhost:8080/",
          "height": 54
        }
      },
      "source": [
        "\"\"\"fig = go.Figure([go.Bar(x = random_seeds , y = data5k[\"Operator1_Util\"] )])\n",
        "fig.update_layout(\n",
        "    title=\"Utilization of Operator 1 for 5000 Customers\",\n",
        "    xaxis_title=\"Random Seeds\",\n",
        "    yaxis_title=\"Utilization Percentage\",\n",
        "    font=dict(\n",
        "        family=\"Courier New, monospace\",\n",
        "        size=18,\n",
        "        color=\"#7f7f7f\"\n",
        "    )\n",
        ")\n",
        "fig.show()\n",
        "\"\"\""
      ],
      "execution_count": 21,
      "outputs": [
        {
          "output_type": "execute_result",
          "data": {
            "text/plain": [
              "'fig = go.Figure([go.Bar(x = random_seeds , y = data5k[\"Operator1_Util\"] )])\\nfig.update_layout(\\n    title=\"Utilization of Operator 1 for 5000 Customers\",\\n    xaxis_title=\"Random Seeds\",\\n    yaxis_title=\"Utilization Percentage\",\\n    font=dict(\\n        family=\"Courier New, monospace\",\\n        size=18,\\n        color=\"#7f7f7f\"\\n    )\\n)\\nfig.show()\\n'"
            ]
          },
          "metadata": {
            "tags": []
          },
          "execution_count": 21
        }
      ]
    },
    {
      "cell_type": "code",
      "metadata": {
        "id": "zBIWWEg6v1AJ",
        "colab_type": "code",
        "outputId": "6c468382-105d-4c1f-e8e1-ff3df969d65f",
        "colab": {
          "base_uri": "https://localhost:8080/",
          "height": 54
        }
      },
      "source": [
        "\"\"\"fig = go.Figure([go.Bar(x = random_seeds , y = data1k[\"Operator2_Util\"] )])\n",
        "fig.update_layout(\n",
        "    title=\"Utilization of Operator 2 for 1000 Customers\",\n",
        "    xaxis_title=\"Random Seeds\",\n",
        "    yaxis_title=\"Utilization Percentage\",\n",
        "    font=dict(\n",
        "        family=\"Courier New, monospace\",\n",
        "        size=18,\n",
        "        color=\"#7f7f7f\"\n",
        "    )\n",
        ")\n",
        "fig.show()\"\"\""
      ],
      "execution_count": 22,
      "outputs": [
        {
          "output_type": "execute_result",
          "data": {
            "text/plain": [
              "'fig = go.Figure([go.Bar(x = random_seeds , y = data1k[\"Operator2_Util\"] )])\\nfig.update_layout(\\n    title=\"Utilization of Operator 2 for 1000 Customers\",\\n    xaxis_title=\"Random Seeds\",\\n    yaxis_title=\"Utilization Percentage\",\\n    font=dict(\\n        family=\"Courier New, monospace\",\\n        size=18,\\n        color=\"#7f7f7f\"\\n    )\\n)\\nfig.show()'"
            ]
          },
          "metadata": {
            "tags": []
          },
          "execution_count": 22
        }
      ]
    },
    {
      "cell_type": "code",
      "metadata": {
        "id": "9IOO_8i4wgaP",
        "colab_type": "code",
        "outputId": "cd1af555-afd0-41fe-b5d6-eeb9a91523d6",
        "colab": {
          "base_uri": "https://localhost:8080/",
          "height": 54
        }
      },
      "source": [
        "\"\"\"fig = go.Figure([go.Bar(x = random_seeds , y = data5k[\"Operator2_Util\"] )])\n",
        "fig.update_layout(\n",
        "    title=\"Utilization of Operator 2 for 5000 Customers\",\n",
        "    xaxis_title=\"Random Seeds\",\n",
        "    yaxis_title=\"Utilization Percentage\",\n",
        "    font=dict(\n",
        "        family=\"Courier New, monospace\",\n",
        "        size=18,\n",
        "        color=\"#7f7f7f\"\n",
        "    )\n",
        ")\n",
        "fig.show()\"\"\""
      ],
      "execution_count": 23,
      "outputs": [
        {
          "output_type": "execute_result",
          "data": {
            "text/plain": [
              "'fig = go.Figure([go.Bar(x = random_seeds , y = data5k[\"Operator2_Util\"] )])\\nfig.update_layout(\\n    title=\"Utilization of Operator 2 for 5000 Customers\",\\n    xaxis_title=\"Random Seeds\",\\n    yaxis_title=\"Utilization Percentage\",\\n    font=dict(\\n        family=\"Courier New, monospace\",\\n        size=18,\\n        color=\"#7f7f7f\"\\n    )\\n)\\nfig.show()'"
            ]
          },
          "metadata": {
            "tags": []
          },
          "execution_count": 23
        }
      ]
    },
    {
      "cell_type": "code",
      "metadata": {
        "id": "yqNqq4ZAwjDE",
        "colab_type": "code",
        "outputId": "a6cc5644-3361-4253-b93c-09323a50a221",
        "colab": {
          "base_uri": "https://localhost:8080/",
          "height": 54
        }
      },
      "source": [
        "\"\"\"fig = go.Figure([go.Bar(x = random_seeds , y = data1k[\"Avg_queue_len_1\"] )])\n",
        "fig.update_layout(\n",
        "    title=\"Average Length of Queue 1 for 1000 Customers\",\n",
        "    xaxis_title=\"Random Seeds\",\n",
        "    yaxis_title=\"Average Number of Ppl\",\n",
        "    font=dict(\n",
        "        family=\"Courier New, monospace\",\n",
        "        size=18,\n",
        "        color=\"#7f7f7f\"\n",
        "    )\n",
        ")\n",
        "fig.show()\"\"\""
      ],
      "execution_count": 24,
      "outputs": [
        {
          "output_type": "execute_result",
          "data": {
            "text/plain": [
              "'fig = go.Figure([go.Bar(x = random_seeds , y = data1k[\"Avg_queue_len_1\"] )])\\nfig.update_layout(\\n    title=\"Average Length of Queue 1 for 1000 Customers\",\\n    xaxis_title=\"Random Seeds\",\\n    yaxis_title=\"Average Number of Ppl\",\\n    font=dict(\\n        family=\"Courier New, monospace\",\\n        size=18,\\n        color=\"#7f7f7f\"\\n    )\\n)\\nfig.show()'"
            ]
          },
          "metadata": {
            "tags": []
          },
          "execution_count": 24
        }
      ]
    },
    {
      "cell_type": "code",
      "metadata": {
        "id": "tgLbRbheybAJ",
        "colab_type": "code",
        "outputId": "32d9c6ea-3570-4b0c-a660-1569feb5a2b4",
        "colab": {
          "base_uri": "https://localhost:8080/",
          "height": 54
        }
      },
      "source": [
        "\"\"\"fig = go.Figure([go.Bar(x = random_seeds , y = data1k[\"Avg_queue_len_2\"] )])\n",
        "fig.update_layout(\n",
        "    title=\"Average Length of Queue 2 for 1000 Customers\",\n",
        "    xaxis_title=\"Random Seeds\",\n",
        "    yaxis_title=\"Average Number of Ppl\",\n",
        "    font=dict(\n",
        "        family=\"Courier New, monospace\",\n",
        "        size=18,\n",
        "        color=\"#7f7f7f\"\n",
        "    )\n",
        ")\n",
        "fig.show()\"\"\""
      ],
      "execution_count": 25,
      "outputs": [
        {
          "output_type": "execute_result",
          "data": {
            "text/plain": [
              "'fig = go.Figure([go.Bar(x = random_seeds , y = data1k[\"Avg_queue_len_2\"] )])\\nfig.update_layout(\\n    title=\"Average Length of Queue 2 for 1000 Customers\",\\n    xaxis_title=\"Random Seeds\",\\n    yaxis_title=\"Average Number of Ppl\",\\n    font=dict(\\n        family=\"Courier New, monospace\",\\n        size=18,\\n        color=\"#7f7f7f\"\\n    )\\n)\\nfig.show()'"
            ]
          },
          "metadata": {
            "tags": []
          },
          "execution_count": 25
        }
      ]
    },
    {
      "cell_type": "code",
      "metadata": {
        "id": "BlY9fc5wyh8O",
        "colab_type": "code",
        "outputId": "e881597c-69c3-4331-c172-bdb3b0a555cd",
        "colab": {
          "base_uri": "https://localhost:8080/",
          "height": 54
        }
      },
      "source": [
        "\"\"\"fig = go.Figure([go.Bar(x = random_seeds , y = data5k[\"Avg_queue_len_1\"] )])\n",
        "fig.update_layout(\n",
        "    title=\"Average Length of Queue 1 for 5000 Customers\",\n",
        "    xaxis_title=\"Random Seeds\",\n",
        "    yaxis_title=\"Average Number of Ppl\",\n",
        "    font=dict(\n",
        "        family=\"Courier New, monospace\",\n",
        "        size=18,\n",
        "        color=\"#7f7f7f\"\n",
        "    )\n",
        ")\n",
        "fig.show()\"\"\""
      ],
      "execution_count": 26,
      "outputs": [
        {
          "output_type": "execute_result",
          "data": {
            "text/plain": [
              "'fig = go.Figure([go.Bar(x = random_seeds , y = data5k[\"Avg_queue_len_1\"] )])\\nfig.update_layout(\\n    title=\"Average Length of Queue 1 for 5000 Customers\",\\n    xaxis_title=\"Random Seeds\",\\n    yaxis_title=\"Average Number of Ppl\",\\n    font=dict(\\n        family=\"Courier New, monospace\",\\n        size=18,\\n        color=\"#7f7f7f\"\\n    )\\n)\\nfig.show()'"
            ]
          },
          "metadata": {
            "tags": []
          },
          "execution_count": 26
        }
      ]
    },
    {
      "cell_type": "code",
      "metadata": {
        "id": "5ofAXGk0y72m",
        "colab_type": "code",
        "outputId": "5c390aa9-dc6f-4fc8-a5c7-d6f928574df7",
        "colab": {
          "base_uri": "https://localhost:8080/",
          "height": 54
        }
      },
      "source": [
        "\"\"\"fig = go.Figure([go.Bar(x = random_seeds , y = data5k[\"Avg_queue_len_2\"] )])\n",
        "fig.update_layout(\n",
        "    title=\"Average Length of Queue 2 for 5000 Customers\",\n",
        "    xaxis_title=\"Random Seeds\",\n",
        "    yaxis_title=\"Average Number of Ppl\",\n",
        "    font=dict(\n",
        "        family=\"Courier New, monospace\",\n",
        "        size=18,\n",
        "        color=\"#7f7f7f\"\n",
        "    )\n",
        ")\n",
        "fig.show()\"\"\""
      ],
      "execution_count": 27,
      "outputs": [
        {
          "output_type": "execute_result",
          "data": {
            "text/plain": [
              "'fig = go.Figure([go.Bar(x = random_seeds , y = data5k[\"Avg_queue_len_2\"] )])\\nfig.update_layout(\\n    title=\"Average Length of Queue 2 for 5000 Customers\",\\n    xaxis_title=\"Random Seeds\",\\n    yaxis_title=\"Average Number of Ppl\",\\n    font=dict(\\n        family=\"Courier New, monospace\",\\n        size=18,\\n        color=\"#7f7f7f\"\\n    )\\n)\\nfig.show()'"
            ]
          },
          "metadata": {
            "tags": []
          },
          "execution_count": 27
        }
      ]
    },
    {
      "cell_type": "code",
      "metadata": {
        "id": "Ydn4OHtby_Iu",
        "colab_type": "code",
        "outputId": "46f42b25-50ee-45e0-a0f9-1886ca071e88",
        "colab": {
          "base_uri": "https://localhost:8080/",
          "height": 54
        }
      },
      "source": [
        "\"\"\"fig = go.Figure([go.Bar(x = random_seeds , y = data1k[\"MTWT/MTST\"] )])\n",
        "fig.update_layout(\n",
        "    title=\"Maximum(Cumulative) Total Waiting Time to Total System Time Ratio for 1000 Customers\",\n",
        "    xaxis_title=\"Random Seeds\",\n",
        "    yaxis_title=\"The % Percentage of Ratio\",\n",
        "    font=dict(\n",
        "        family=\"Courier New, monospace\",\n",
        "        size=18,\n",
        "        color=\"#7f7f7f\"\n",
        "    )\n",
        ")\n",
        "fig.show()\"\"\""
      ],
      "execution_count": 28,
      "outputs": [
        {
          "output_type": "execute_result",
          "data": {
            "text/plain": [
              "'fig = go.Figure([go.Bar(x = random_seeds , y = data1k[\"MTWT/MTST\"] )])\\nfig.update_layout(\\n    title=\"Maximum(Cumulative) Total Waiting Time to Total System Time Ratio for 1000 Customers\",\\n    xaxis_title=\"Random Seeds\",\\n    yaxis_title=\"The % Percentage of Ratio\",\\n    font=dict(\\n        family=\"Courier New, monospace\",\\n        size=18,\\n        color=\"#7f7f7f\"\\n    )\\n)\\nfig.show()'"
            ]
          },
          "metadata": {
            "tags": []
          },
          "execution_count": 28
        }
      ]
    },
    {
      "cell_type": "code",
      "metadata": {
        "id": "aOq4Bf4d0Ceb",
        "colab_type": "code",
        "outputId": "a8b82d34-dccf-4da6-cf47-05244c0172f2",
        "colab": {
          "base_uri": "https://localhost:8080/",
          "height": 54
        }
      },
      "source": [
        "\"\"\"fig = go.Figure([go.Bar(x = random_seeds , y = data5k[\"MTWT/MTST\"] )])\n",
        "fig.update_layout(\n",
        "    title=\"Maximum(Cumulative) Total Waiting Time to Total System Time Ratio for 5000 Customers\",\n",
        "    xaxis_title=\"Random Seeds\",\n",
        "    yaxis_title=\"The % Percentage of Ratio\",\n",
        "    font=dict(\n",
        "        family=\"Courier New, monospace\",\n",
        "        size=18,\n",
        "        color=\"#7f7f7f\"\n",
        "    )\n",
        ")\n",
        "fig.show()\"\"\""
      ],
      "execution_count": 29,
      "outputs": [
        {
          "output_type": "execute_result",
          "data": {
            "text/plain": [
              "'fig = go.Figure([go.Bar(x = random_seeds , y = data5k[\"MTWT/MTST\"] )])\\nfig.update_layout(\\n    title=\"Maximum(Cumulative) Total Waiting Time to Total System Time Ratio for 5000 Customers\",\\n    xaxis_title=\"Random Seeds\",\\n    yaxis_title=\"The % Percentage of Ratio\",\\n    font=dict(\\n        family=\"Courier New, monospace\",\\n        size=18,\\n        color=\"#7f7f7f\"\\n    )\\n)\\nfig.show()'"
            ]
          },
          "metadata": {
            "tags": []
          },
          "execution_count": 29
        }
      ]
    },
    {
      "cell_type": "code",
      "metadata": {
        "id": "3XX5tf4o1d1x",
        "colab_type": "code",
        "outputId": "eb8250a4-18ae-4f79-9c5e-968d577dc21f",
        "colab": {
          "base_uri": "https://localhost:8080/",
          "height": 54
        }
      },
      "source": [
        "\"\"\"fig = go.Figure([go.Bar(x = random_seeds , y = data1k[\"Num_Of_Unsatisfied_Customers\"] )])\n",
        "fig.update_layout(\n",
        "    title=\"Average Number of Customers Leaving The System Unsatisfied  for 1000 Customers\",\n",
        "    xaxis_title=\"Random Seeds\",\n",
        "    yaxis_title=\"The Avg. Number of Ppl\",\n",
        "    font=dict(\n",
        "        family=\"Courier New, monospace\",\n",
        "        size=18,\n",
        "        color=\"#7f7f7f\"\n",
        "    )\n",
        ")\n",
        "fig.show()\"\"\""
      ],
      "execution_count": 30,
      "outputs": [
        {
          "output_type": "execute_result",
          "data": {
            "text/plain": [
              "'fig = go.Figure([go.Bar(x = random_seeds , y = data1k[\"Num_Of_Unsatisfied_Customers\"] )])\\nfig.update_layout(\\n    title=\"Average Number of Customers Leaving The System Unsatisfied  for 1000 Customers\",\\n    xaxis_title=\"Random Seeds\",\\n    yaxis_title=\"The Avg. Number of Ppl\",\\n    font=dict(\\n        family=\"Courier New, monospace\",\\n        size=18,\\n        color=\"#7f7f7f\"\\n    )\\n)\\nfig.show()'"
            ]
          },
          "metadata": {
            "tags": []
          },
          "execution_count": 30
        }
      ]
    },
    {
      "cell_type": "code",
      "metadata": {
        "id": "cVQQkUcwBbec",
        "colab_type": "code",
        "outputId": "6a6f0f4d-3df4-44e3-c6f8-04a472b3082f",
        "colab": {
          "base_uri": "https://localhost:8080/",
          "height": 54
        }
      },
      "source": [
        "\"\"\"fig = go.Figure([go.Bar(x = random_seeds , y = data5k[\"Num_Of_Unsatisfied_Customers\"] )])\n",
        "fig.update_layout(\n",
        "    title=\"Average Number of Customers Leaving The System Unsatisfied  for 5000 Customers\",\n",
        "    xaxis_title=\"Random Seeds\",\n",
        "    yaxis_title=\"The Avg. Number of Ppl\",\n",
        "    font=dict(\n",
        "        family=\"Courier New, monospace\",\n",
        "        size=18,\n",
        "        color=\"#7f7f7f\"\n",
        "    )\n",
        ")\n",
        "fig.show()\"\"\""
      ],
      "execution_count": 31,
      "outputs": [
        {
          "output_type": "execute_result",
          "data": {
            "text/plain": [
              "'fig = go.Figure([go.Bar(x = random_seeds , y = data5k[\"Num_Of_Unsatisfied_Customers\"] )])\\nfig.update_layout(\\n    title=\"Average Number of Customers Leaving The System Unsatisfied  for 5000 Customers\",\\n    xaxis_title=\"Random Seeds\",\\n    yaxis_title=\"The Avg. Number of Ppl\",\\n    font=dict(\\n        family=\"Courier New, monospace\",\\n        size=18,\\n        color=\"#7f7f7f\"\\n    )\\n)\\nfig.show()'"
            ]
          },
          "metadata": {
            "tags": []
          },
          "execution_count": 31
        }
      ]
    },
    {
      "cell_type": "code",
      "metadata": {
        "id": "r8TmAMUGBnWR",
        "colab_type": "code",
        "outputId": "ceedba88-282a-43fa-a9a2-1ca369503a43",
        "colab": {
          "base_uri": "https://localhost:8080/",
          "height": 54
        }
      },
      "source": [
        "\"\"\"fig = go.Figure([go.Bar(x = random_seeds , y = data1k[\"avg_wait_time\"] )])\n",
        "fig.update_layout(\n",
        "    title=\"Average Total Waiting Time for 1000 Customers\",\n",
        "    xaxis_title=\"Random Seeds\",\n",
        "    yaxis_title=\"Time in Minutes\",\n",
        "    font=dict(\n",
        "        family=\"Courier New, monospace\",\n",
        "        size=18,\n",
        "        color=\"#7f7f7f\"\n",
        "    )\n",
        ")\n",
        "fig.show()\"\"\""
      ],
      "execution_count": 32,
      "outputs": [
        {
          "output_type": "execute_result",
          "data": {
            "text/plain": [
              "'fig = go.Figure([go.Bar(x = random_seeds , y = data1k[\"avg_wait_time\"] )])\\nfig.update_layout(\\n    title=\"Average Total Waiting Time for 1000 Customers\",\\n    xaxis_title=\"Random Seeds\",\\n    yaxis_title=\"Time in Minutes\",\\n    font=dict(\\n        family=\"Courier New, monospace\",\\n        size=18,\\n        color=\"#7f7f7f\"\\n    )\\n)\\nfig.show()'"
            ]
          },
          "metadata": {
            "tags": []
          },
          "execution_count": 32
        }
      ]
    },
    {
      "cell_type": "code",
      "metadata": {
        "id": "CI2FGEzVEV9A",
        "colab_type": "code",
        "outputId": "10983848-5106-4f24-f443-a8df1bb18588",
        "colab": {
          "base_uri": "https://localhost:8080/",
          "height": 54
        }
      },
      "source": [
        "\"\"\"fig = go.Figure([go.Bar(x = random_seeds , y = data5k[\"avg_wait_time\"] )])\n",
        "fig.update_layout(\n",
        "    title=\"Average Total Waiting Time for 5000 Customers\",\n",
        "    xaxis_title=\"Random Seeds\",\n",
        "    yaxis_title=\"Time in Minutes\",\n",
        "    font=dict(\n",
        "        family=\"Courier New, monospace\",\n",
        "        size=18,\n",
        "        color=\"#7f7f7f\"\n",
        "    )\n",
        ")\n",
        "fig.show()\"\"\""
      ],
      "execution_count": 33,
      "outputs": [
        {
          "output_type": "execute_result",
          "data": {
            "text/plain": [
              "'fig = go.Figure([go.Bar(x = random_seeds , y = data5k[\"avg_wait_time\"] )])\\nfig.update_layout(\\n    title=\"Average Total Waiting Time for 5000 Customers\",\\n    xaxis_title=\"Random Seeds\",\\n    yaxis_title=\"Time in Minutes\",\\n    font=dict(\\n        family=\"Courier New, monospace\",\\n        size=18,\\n        color=\"#7f7f7f\"\\n    )\\n)\\nfig.show()'"
            ]
          },
          "metadata": {
            "tags": []
          },
          "execution_count": 33
        }
      ]
    }
  ]
}